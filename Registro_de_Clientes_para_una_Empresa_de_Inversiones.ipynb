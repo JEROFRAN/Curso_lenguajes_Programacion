{
  "nbformat": 4,
  "nbformat_minor": 0,
  "metadata": {
    "colab": {
      "provenance": [],
      "include_colab_link": true
    },
    "kernelspec": {
      "name": "python3",
      "display_name": "Python 3"
    },
    "language_info": {
      "name": "python"
    }
  },
  "cells": [
    {
      "cell_type": "markdown",
      "metadata": {
        "id": "view-in-github",
        "colab_type": "text"
      },
      "source": [
        "<a href=\"https://colab.research.google.com/github/JEROFRAN/Curso_lenguajes_Programacion/blob/main/Registro_de_Clientes_para_una_Empresa_de_Inversiones.ipynb\" target=\"_parent\"><img src=\"https://colab.research.google.com/assets/colab-badge.svg\" alt=\"Open In Colab\"/></a>"
      ]
    },
    {
      "cell_type": "markdown",
      "source": [
        "# **Descripción**\n",
        "\n",
        "En esta aplicación, los estudiantes simularán el registro de clientes para una empresa de inversiones. Usarán listas, tuplas y diccionarios para almacenar y gestionar información básica sobre los clientes, sus inversiones y el rendimiento de estas. El ejercicio no requiere el uso de ciclos o bucles, y cada operación se realizará de forma explícita."
      ],
      "metadata": {
        "id": "nYRnN-KLI4Ix"
      }
    },
    {
      "cell_type": "markdown",
      "source": [
        "## Paso a Paso de la Aplicación\n",
        "1. **Datos Iniciales del Registro de Clientes**\n",
        "Los estudiantes deben crear listas para almacenar la información básica de los clientes, como el nombre, el monto invertido y el rendimiento obtenido."
      ],
      "metadata": {
        "id": "PZIEw-7SI-2s"
      }
    },
    {
      "cell_type": "code",
      "execution_count": 4,
      "metadata": {
        "id": "3ID7lSJaIy_X",
        "outputId": "682ccb80-c569-4437-9b8d-2f6f89d011c6",
        "colab": {
          "base_uri": "https://localhost:8080/"
        }
      },
      "outputs": [
        {
          "output_type": "stream",
          "name": "stdout",
          "text": [
            "['Juan Perez', 'Maria Rodriguez', 'Carlos Lopez']\n",
            "[10000, 15000, 20000]\n",
            "[5.0, 6.5, 7.0]\n"
          ]
        }
      ],
      "source": [
        "# Listas para almacenar información de clientes\n",
        "clientes = [\"Juan Perez\", \"Maria Rodriguez\", \"Carlos Lopez\"]\n",
        "montos_invertidos = [10000, 15000, 20000]  # en dólares\n",
        "rendimientos = [5.0, 6.5, 7.0]  # en porcentaje\n",
        "\n",
        "print(clientes)\n",
        "print(montos_invertidos)\n",
        "print(rendimientos)\n",
        "\n",
        "\n"
      ]
    },
    {
      "cell_type": "markdown",
      "source": [
        "2. **Crear Tuplas para Cada Cliente**\n",
        "Cada cliente tendrá una tupla que contenga su nombre, el monto invertido y el rendimiento obtenido. Esta información es inmutable."
      ],
      "metadata": {
        "id": "1O-iPIbXKbTm"
      }
    },
    {
      "cell_type": "code",
      "source": [
        "# Crear tuplas para cada cliente\n",
        "tuplas_clientes = [(clientes[i], montos_invertidos[i], rendimientos[i]) for i in range(len(clientes))]\n",
        "\n",
        "print(tuplas_clientes)\n"
      ],
      "metadata": {
        "id": "9WtCYGaF-YPj",
        "outputId": "1927537a-7cc7-4cfd-b5ed-9491e4f64421",
        "colab": {
          "base_uri": "https://localhost:8080/"
        }
      },
      "execution_count": 6,
      "outputs": [
        {
          "output_type": "stream",
          "name": "stdout",
          "text": [
            "[('Juan Perez', 10000, 5.0), ('Maria Rodriguez', 15000, 6.5), ('Carlos Lopez', 20000, 7.0)]\n"
          ]
        }
      ]
    },
    {
      "cell_type": "markdown",
      "source": [
        "**for:** Inicia un bucle que recorre elementos.\n",
        "\n",
        "**variable:** Representa el elemento actual de la secuencia en cada iteración.\n",
        "\n",
        "**in:** Indica que se recorrerá la secuencia dada.\n",
        "\n",
        "**secuencia:** Puede ser una lista, tupla, cadena, diccionario."
      ],
      "metadata": {
        "id": "bsaVpmXoFmB-"
      }
    },
    {
      "cell_type": "code",
      "source": [
        "len(clientes)"
      ],
      "metadata": {
        "id": "e_2YqdYQBkym",
        "outputId": "95ece1fb-b621-4b30-d74a-ce4961bd912f",
        "colab": {
          "base_uri": "https://localhost:8080/"
        }
      },
      "execution_count": 13,
      "outputs": [
        {
          "output_type": "execute_result",
          "data": {
            "text/plain": [
              "3"
            ]
          },
          "metadata": {},
          "execution_count": 13
        }
      ]
    },
    {
      "cell_type": "markdown",
      "source": [
        "3. **Organizar los Datos en un Diccionario**\n",
        "Crear un diccionario llamado registro_clientes donde cada clave sea el nombre de un cliente y el valor sea un diccionario con detalles del monto invertido y el rendimiento."
      ],
      "metadata": {
        "id": "kVFvpWF5KipP"
      }
    },
    {
      "cell_type": "code",
      "source": [
        "# Crear diccionario de registro de clientes\n",
        "registro_clientes = {cliente[0]: {\"monto_invertido\": cliente[1], \"rendimiento\": cliente[2]} for cliente in tuplas_clientes}\n",
        "\n",
        "print(registro_clientes)"
      ],
      "metadata": {
        "id": "5fZ_UcaI-tix",
        "outputId": "aae6e7c4-8f0c-430f-e1cb-16e157c08f03",
        "colab": {
          "base_uri": "https://localhost:8080/"
        }
      },
      "execution_count": 8,
      "outputs": [
        {
          "output_type": "stream",
          "name": "stdout",
          "text": [
            "{'Juan Perez': {'monto_invertido': 10000, 'rendimiento': 5.0}, 'Maria Rodriguez': {'monto_invertido': 15000, 'rendimiento': 6.5}, 'Carlos Lopez': {'monto_invertido': 20000, 'rendimiento': 7.0}}\n"
          ]
        }
      ]
    },
    {
      "cell_type": "markdown",
      "source": [],
      "metadata": {
        "id": "PjT0H7jeE8Ih"
      }
    },
    {
      "cell_type": "markdown",
      "source": [
        "4. **Calcular el Rendimiento Total de un Cliente**\n",
        "Usando el diccionario registro_clientes, los estudiantes calcularán el rendimiento total (en dólares) de un cliente específico, por ejemplo, \"Maria Rodriguez\"."
      ],
      "metadata": {
        "id": "hitAKVLXKnXQ"
      }
    },
    {
      "cell_type": "code",
      "source": [
        "# Calcular el rendimiento total de Maria Rodriguez\n",
        "nombre_cliente = \"Maria Rodriguez\"\n",
        "rendimiento_total = (registro_clientes[nombre_cliente][\"monto_invertido\"] * registro_clientes[nombre_cliente][\"rendimiento\"]) / 100\n",
        "print(f\"El rendimiento total de {nombre_cliente} es: ${rendimiento_total}\")"
      ],
      "metadata": {
        "id": "8OANk3he-6B9",
        "outputId": "13eab7d4-5a88-4bc4-e5e0-22d16d98207e",
        "colab": {
          "base_uri": "https://localhost:8080/"
        }
      },
      "execution_count": 9,
      "outputs": [
        {
          "output_type": "stream",
          "name": "stdout",
          "text": [
            "El rendimiento total de Maria Rodriguez es: $975.0\n"
          ]
        }
      ]
    },
    {
      "cell_type": "markdown",
      "source": [
        "5. **Actualizar el Monto Invertido de un Cliente**\n",
        "Los estudiantes deben actualizar el monto_invertido de \"Carlos Lopez\" en el diccionario registro_clientes a un nuevo valor (por ejemplo, 25000)."
      ],
      "metadata": {
        "id": "qattAT40Kw_l"
      }
    },
    {
      "cell_type": "code",
      "source": [
        "# Actualizar el monto invertido de Carlos Lopez\n",
        "registro_clientes[\"Carlos Lopez\"][\"monto_invertido\"] = 25000\n",
        "print(registro_clientes)"
      ],
      "metadata": {
        "id": "7ggBmTqI_AUz",
        "outputId": "3eca3d02-125e-493e-e65c-a11a21a77cd4",
        "colab": {
          "base_uri": "https://localhost:8080/"
        }
      },
      "execution_count": 10,
      "outputs": [
        {
          "output_type": "stream",
          "name": "stdout",
          "text": [
            "{'Juan Perez': {'monto_invertido': 10000, 'rendimiento': 5.0}, 'Maria Rodriguez': {'monto_invertido': 15000, 'rendimiento': 6.5}, 'Carlos Lopez': {'monto_invertido': 25000, 'rendimiento': 7.0}}\n"
          ]
        }
      ]
    },
    {
      "cell_type": "markdown",
      "source": [
        "6. **Añadir un Nuevo Cliente al Registro**\n",
        "Añadir un nuevo cliente llamado \"Ana Gomez\" al diccionario registro_clientes con un monto_invertido de 18000 y un rendimiento de 5.8%."
      ],
      "metadata": {
        "id": "_MWWTlDiKzrh"
      }
    },
    {
      "cell_type": "code",
      "source": [
        "# Añadir un nuevo cliente \"Ana Gomez\"\n",
        "registro_clientes[\"Ana Gomez\"] = {\"monto_invertido\": 18000, \"rendimiento\": 5.8}\n",
        "\n",
        "print(registro_clientes)"
      ],
      "metadata": {
        "id": "OPSNMANL_JyR",
        "outputId": "0c393d29-12b9-485c-e51e-837b809fecc9",
        "colab": {
          "base_uri": "https://localhost:8080/"
        }
      },
      "execution_count": 11,
      "outputs": [
        {
          "output_type": "stream",
          "name": "stdout",
          "text": [
            "{'Juan Perez': {'monto_invertido': 10000, 'rendimiento': 5.0}, 'Maria Rodriguez': {'monto_invertido': 15000, 'rendimiento': 6.5}, 'Carlos Lopez': {'monto_invertido': 25000, 'rendimiento': 7.0}, 'Ana Gomez': {'monto_invertido': 18000, 'rendimiento': 5.8}}\n"
          ]
        }
      ]
    },
    {
      "cell_type": "markdown",
      "source": [
        "7. **Remover un Cliente del Registro**\n",
        "Remover al cliente \"Juan Perez\" del diccionario registro_clientes."
      ],
      "metadata": {
        "id": "WhxURQlJK5Gp"
      }
    },
    {
      "cell_type": "code",
      "source": [
        "# Remover a \"Juan Perez\" del registro\n",
        "registro_clientes.pop(\"Juan Perez\", None)\n",
        "# Mostrar el registro actualizado\n",
        "print(registro_clientes)"
      ],
      "metadata": {
        "id": "6yDZVOTS_X-S",
        "outputId": "cd41cb69-989d-4c55-8bc9-d9d92c8e533d",
        "colab": {
          "base_uri": "https://localhost:8080/"
        }
      },
      "execution_count": 12,
      "outputs": [
        {
          "output_type": "stream",
          "name": "stdout",
          "text": [
            "{'Maria Rodriguez': {'monto_invertido': 15000, 'rendimiento': 6.5}, 'Carlos Lopez': {'monto_invertido': 25000, 'rendimiento': 7.0}, 'Ana Gomez': {'monto_invertido': 18000, 'rendimiento': 5.8}}\n"
          ]
        }
      ]
    },
    {
      "cell_type": "markdown",
      "source": [],
      "metadata": {
        "id": "lQTq2rLNK-aW"
      }
    }
  ]
}